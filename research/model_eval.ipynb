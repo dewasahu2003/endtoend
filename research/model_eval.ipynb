{
 "cells": [
  {
   "cell_type": "code",
   "execution_count": 1,
   "metadata": {},
   "outputs": [
    {
     "data": {
      "text/plain": [
       "'d:\\\\Code\\\\mlops\\\\10.endtoend\\\\endtoend\\\\research'"
      ]
     },
     "execution_count": 1,
     "metadata": {},
     "output_type": "execute_result"
    }
   ],
   "source": [
    "import os\n",
    "%pwd"
   ]
  },
  {
   "cell_type": "code",
   "execution_count": 2,
   "metadata": {},
   "outputs": [
    {
     "data": {
      "text/plain": [
       "'d:\\\\Code\\\\mlops\\\\10.endtoend\\\\endtoend'"
      ]
     },
     "execution_count": 2,
     "metadata": {},
     "output_type": "execute_result"
    }
   ],
   "source": [
    "os.chdir(\"..\")\n",
    "%pwd"
   ]
  },
  {
   "cell_type": "code",
   "execution_count": 3,
   "metadata": {},
   "outputs": [],
   "source": [
    "os.environ[\"MLFLOW_TRACKING_URI\"] = \"https://dagshub.com/dewasahu2003/endtoend.mlflow\"\n",
    "os.environ[\"MLFLOW_TRACKING_USERNAME\"] = \"dewasahu2003\"\n",
    "os.environ[\"MLFLOW_TRACKING_PASSWORD\"] = \"6976e6dedfc675e1145823597f708aa2b40572a2\"\n"
   ]
  },
  {
   "cell_type": "code",
   "execution_count": null,
   "metadata": {},
   "outputs": [],
   "source": [
    "from dataclasses import dataclass\n",
    "from pathlib import Path\n",
    "\n",
    "@dataclass\n",
    "class ModelEvalConfig:\n",
    "    root_dir:Path\n",
    "    test_data_path:Path\n",
    "    model_path:Path\n",
    "    metric_file:str\n",
    "    \n",
    "    all_params:dict\n",
    "    target_column:str\n",
    "    \n",
    "    mlflow_uri:str\n",
    "    "
   ]
  },
  {
   "cell_type": "code",
   "execution_count": 10,
   "metadata": {},
   "outputs": [],
   "source": [
    "from src.datasci.constants import (CONFIG_FILE_PATH, PARAMS_FILE_PATH,\n",
    "                                   SCHEMA_FILE_PATH)\n",
    "from src.datasci.utils.common import create_directories, read_yaml, save_json\n",
    "\n",
    "\n",
    "class ConfiguratonManager:\n",
    "    def __init__(self,\n",
    "                 config_file_path=CONFIG_FILE_PATH,\n",
    "                 params_file_path=PARAMS_FILE_PATH,\n",
    "                 schema_file_path=SCHEMA_FILE_PATH\n",
    "                 ):\n",
    "        self.config = read_yaml(config_file_path)\n",
    "        self.params = read_yaml(params_file_path)\n",
    "        self.schema = read_yaml(schema_file_path)\n",
    "        create_directories([self.config.artifacts_root])\n",
    "    \n",
    "    def get_model_eval_config(self)-> ModelEvalConfig:\n",
    "        config = self.config.model_evaluation\n",
    "        param = self.params.ElasticNet\n",
    "        schema = self.schema.TARGET_COLUMN\n",
    "        create_directories([config.root_dir])\n",
    "        \n",
    "        model_eval_config = ModelEvalConfig(\n",
    "            root_dir=config.root_dir,\n",
    "            test_data_path=config.test_data_path,\n",
    "            model_path=config.model_path,\n",
    "            metric_file=config.metric_file,\n",
    "            all_params=param,\n",
    "            target_column=schema.name,\n",
    "            mlflow_uri=\"https://dagshub.com/dewasahu2003/endtoend.mlflow\")\n",
    "        return model_eval_config"
   ]
  },
  {
   "cell_type": "code",
   "execution_count": 13,
   "metadata": {},
   "outputs": [],
   "source": [
    "import os\n",
    "import pandas as pd\n",
    "import numpy as np\n",
    "from sklearn.metrics import mean_absolute_error,mean_squared_error,r2_score\n",
    "from urllib.parse import urlparse\n",
    "import mlflow as mf\n",
    "import mlflow.sklearn as mfsk\n",
    "import joblib\n",
    "\n",
    "class ModelEval:\n",
    "    def __init__(self,config:ModelEvalConfig):\n",
    "        self.config =  config\n",
    "    \n",
    "    def eval_metrics(self,actual,pred):\n",
    "        rmse =  np.sqrt(mean_squared_error(actual,pred))\n",
    "        mae = mean_absolute_error(actual,pred)\n",
    "        r2 = r2_score(actual,pred)\n",
    "        return rmse,mae,r2\n",
    "    \n",
    "    def log_into_mlflow(self):\n",
    "        test_data = pd.read_csv(self.config.test_data_path)\n",
    "        model = joblib.load(self.config.model_path)\n",
    "        \n",
    "        test_x = test_data.drop([self.config.target_column],axis=1)\n",
    "        test_y = test_data[[self.config.target_column]]\n",
    "        \n",
    "        mf.set_registry_uri(self.config.mlflow_uri)\n",
    "        tracking_url_type_store = urlparse(mf.get_tracking_uri()).scheme\n",
    "        \n",
    "        with mf.start_run():\n",
    "            predicted_qualities = model.predict(test_x)\n",
    "            (rmse,mae,r2) = self.eval_metrics(test_y,predicted_qualities)\n",
    "            # Log parameter, metrics, and model to MLflow\n",
    "            scores = {\"rmse\": rmse, \"mae\": mae, \"r2\": r2}\n",
    "            save_json(path=Path(self.config.metric_file),data=scores)\n",
    "            \n",
    "            mf.log_params(self.config.all_params)\n",
    "            mf.log_metrics(scores)\n",
    "            \n",
    "            if tracking_url_type_store != \"file\":\n",
    "                #register the model\n",
    "                mfsk.log_model(model, \"model\", registered_model_name=\"ElasticnetModel\")\n",
    "            else:\n",
    "                mfsk.log_model(model, \"model\")\n",
    "    "
   ]
  },
  {
   "cell_type": "code",
   "execution_count": 14,
   "metadata": {},
   "outputs": [
    {
     "name": "stdout",
     "output_type": "stream",
     "text": [
      "[2024-12-07 16:17:24,389: INFO: common: yaml file: config\\config.yaml loaded successfully]\n",
      "[2024-12-07 16:17:24,391: INFO: common: yaml file: params.yaml loaded successfully]\n",
      "[2024-12-07 16:17:24,394: INFO: common: yaml file: schema.yaml loaded successfully]\n",
      "[2024-12-07 16:17:24,396: INFO: common: created directory at: artifacts]\n",
      "[2024-12-07 16:17:24,397: INFO: common: created directory at: artifacts/model_evaluation]\n",
      "[2024-12-07 16:17:25,383: INFO: common: json file saved at: artifacts\\model_evaluation\\metrics.jsons]\n"
     ]
    },
    {
     "name": "stderr",
     "output_type": "stream",
     "text": [
      "2024/12/07 16:17:37 WARNING mlflow.models.model: Model logged without a signature and input example. Please set `input_example` parameter when logging the model to auto infer the model signature.\n",
      "Successfully registered model 'ElasticnetModel'.\n",
      "2024/12/07 16:17:43 INFO mlflow.store.model_registry.abstract_store: Waiting up to 300 seconds for model version to finish creation. Model name: ElasticnetModel, version 1\n",
      "Created version '1' of model 'ElasticnetModel'.\n"
     ]
    },
    {
     "name": "stdout",
     "output_type": "stream",
     "text": [
      "🏃 View run able-goose-436 at: https://dagshub.com/dewasahu2003/endtoend.mlflow/#/experiments/0/runs/f991e77dec8b4a8fb70fa67e6d407bba\n",
      "🧪 View experiment at: https://dagshub.com/dewasahu2003/endtoend.mlflow/#/experiments/0\n"
     ]
    }
   ],
   "source": [
    "try:\n",
    "    config = ConfiguratonManager()\n",
    "    model_config = config.get_model_eval_config()\n",
    "    model_eval = ModelEval(model_config)\n",
    "    model_eval.log_into_mlflow()\n",
    "except Exception as e:\n",
    "    raise e\n",
    "    "
   ]
  }
 ],
 "metadata": {
  "kernelspec": {
   "display_name": "venv",
   "language": "python",
   "name": "python3"
  },
  "language_info": {
   "codemirror_mode": {
    "name": "ipython",
    "version": 3
   },
   "file_extension": ".py",
   "mimetype": "text/x-python",
   "name": "python",
   "nbconvert_exporter": "python",
   "pygments_lexer": "ipython3",
   "version": "3.12.6"
  }
 },
 "nbformat": 4,
 "nbformat_minor": 2
}
