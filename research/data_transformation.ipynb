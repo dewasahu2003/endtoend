{
 "cells": [
  {
   "cell_type": "code",
   "execution_count": 5,
   "metadata": {},
   "outputs": [
    {
     "data": {
      "text/plain": [
       "'d:\\\\Code\\\\mlops\\\\10.endtoend\\\\endtoend\\\\research'"
      ]
     },
     "execution_count": 5,
     "metadata": {},
     "output_type": "execute_result"
    }
   ],
   "source": [
    "import os\n",
    "%pwd"
   ]
  },
  {
   "cell_type": "code",
   "execution_count": 6,
   "metadata": {},
   "outputs": [
    {
     "data": {
      "text/plain": [
       "'d:\\\\Code\\\\mlops\\\\10.endtoend\\\\endtoend'"
      ]
     },
     "execution_count": 6,
     "metadata": {},
     "output_type": "execute_result"
    }
   ],
   "source": [
    "os.chdir(\"..\")\n",
    "%pwd"
   ]
  },
  {
   "cell_type": "code",
   "execution_count": 7,
   "metadata": {},
   "outputs": [],
   "source": [
    "from dataclasses import dataclass\n",
    "from pathlib import Path\n",
    "\n",
    "@dataclass\n",
    "class DataTransformationConfig:\n",
    "    root_dir:Path\n",
    "    data_path: Path\n"
   ]
  },
  {
   "cell_type": "code",
   "execution_count": 8,
   "metadata": {},
   "outputs": [],
   "source": [
    "from src.datasci.constants import *\n",
    "from src.datasci.utils.common   import *"
   ]
  },
  {
   "cell_type": "code",
   "execution_count": 10,
   "metadata": {},
   "outputs": [],
   "source": [
    "\n",
    "class ConfiguratonManager:\n",
    "    def __init__(self,\n",
    "                 config_file_path=CONFIG_FILE_PATH,\n",
    "                 params_file_path=PARAMS_FILE_PATH,\n",
    "                 schema_file_path=SCHEMA_FILE_PATH\n",
    "                 ):\n",
    "        self.config = read_yaml(config_file_path)\n",
    "        self.params = read_yaml(params_file_path)\n",
    "        self.schema = read_yaml(schema_file_path)\n",
    "        create_directories([self.config.artifacts_root])\n",
    "    \n",
    "    def get_data_transformation_config(self)-> DataTransformationConfig:\n",
    "        config = self.config.data_transformation\n",
    "        create_directories([config.root_dir])\n",
    "        data_transformation=DataTransformationConfig(\n",
    "            root_dir=config.root_dir,\n",
    "            data_path=config.data_path\n",
    "        )\n",
    "        return data_transformation"
   ]
  },
  {
   "cell_type": "code",
   "execution_count": 15,
   "metadata": {},
   "outputs": [],
   "source": [
    "from src.datasci import logger\n",
    "from sklearn.model_selection import train_test_split    \n",
    "import pandas as pd\n",
    "\n",
    "class DataTransformation:\n",
    "    def __init__(self,config:DataTransformationConfig):\n",
    "        self.config=config  \n",
    "    \n",
    "    def initiate_transformation(self):\n",
    "        df=pd.read_csv(self.config.data_path)\n",
    "        \n",
    "        train_set,test_set=train_test_split(df,test_size=0.2,random_state=42)\n",
    "        \n",
    "        \n",
    "        train_set.to_csv(os.path.join(self.config.root_dir,\"train.csv\"),index=False)\n",
    "        test_set.to_csv(os.path.join(self.config.root_dir,\"test.csv\"),index=False)\n",
    "        \n",
    "        logger.info(\"Splitted data into training and test sets\")\n",
    "        logger.info(train_set.shape)\n",
    "        logger.info(test_set.shape)\n",
    "        \n",
    "        \n",
    "        "
   ]
  },
  {
   "cell_type": "code",
   "execution_count": 16,
   "metadata": {},
   "outputs": [
    {
     "name": "stdout",
     "output_type": "stream",
     "text": [
      "[2024-12-07 01:53:05,295: INFO: common: yaml file: config\\config.yaml loaded successfully]\n",
      "[2024-12-07 01:53:05,299: INFO: common: yaml file: params.yaml loaded successfully]\n",
      "[2024-12-07 01:53:05,306: INFO: common: yaml file: schema.yaml loaded successfully]\n",
      "[2024-12-07 01:53:05,310: INFO: common: created directory at: artifacts]\n",
      "[2024-12-07 01:53:05,313: INFO: common: created directory at: artifacts/data_transformation]\n",
      "[2024-12-07 01:53:05,374: INFO: 2268916652: Splitted data into training and test sets]\n",
      "[2024-12-07 01:53:05,376: INFO: 2268916652: (1279, 12)]\n",
      "[2024-12-07 01:53:05,377: INFO: 2268916652: (320, 12)]\n"
     ]
    }
   ],
   "source": [
    "config = ConfiguratonManager()\n",
    "data_transformation_config = config.get_data_transformation_config()    \n",
    "data_transformation = DataTransformation(config=data_transformation_config)\n",
    "data_transformation.initiate_transformation()"
   ]
  }
 ],
 "metadata": {
  "kernelspec": {
   "display_name": "venv",
   "language": "python",
   "name": "python3"
  },
  "language_info": {
   "codemirror_mode": {
    "name": "ipython",
    "version": 3
   },
   "file_extension": ".py",
   "mimetype": "text/x-python",
   "name": "python",
   "nbconvert_exporter": "python",
   "pygments_lexer": "ipython3",
   "version": "3.12.6"
  }
 },
 "nbformat": 4,
 "nbformat_minor": 2
}
